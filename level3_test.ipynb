{
 "cells": [
  {
   "cell_type": "markdown",
   "metadata": {},
   "source": [
    "# An environmental layers testing framework for the FAO land cover classification system"
   ]
  },
  {
   "cell_type": "markdown",
   "metadata": {},
   "source": [
    "The purpose of this notebook is to provide an easy-to-use method for testing environmental layers to use for classification and seeing how changes to particular layers effect the final Land Cover Classification. You can easily test with different environmental layer inputs, and different locations. \n",
    "\n",
    "This code defines 5 variables to contain the binary layers required to reach a level 3 classification:\n",
    "1. **vegetat_veg_cat:** Vegetated / Non-Vegetated \n",
    "2. **aquatic_wat_cat:** Water / Terrestrial \n",
    "3. **cultman_agr_cat:** Natural Veg / Crop or Managed Veg\n",
    "4. **artific_urb_cat:** Natural Surfaces / Artificial Surfaces (bare soil/urban) \n",
    "5. **artwatr_wat_cat:** Natural water / Artificial water\n",
    "\n",
    "Whilst this example is using open data cube to load the required data, it can be loaded from anywhere - so long as all input layers cover the same geographic region and are defined in a correctly labelled dataset, before being passed to the classification code.\n"
   ]
  },
  {
   "cell_type": "code",
   "execution_count": 2,
   "metadata": {},
   "outputs": [],
   "source": [
    "import numpy\n",
    "import xarray\n",
    "import scipy\n",
    "from matplotlib import pyplot\n",
    "from matplotlib import cm\n",
    "import datacube\n",
    "from datacube.storage import masking\n",
    "dc = datacube.Datacube()\n",
    "\n",
    "#import classification script\n",
    "import lccs_l3"
   ]
  },
  {
   "cell_type": "markdown",
   "metadata": {},
   "source": [
    "Define details of data to be loaded - area, resolution, crs.."
   ]
  },
  {
   "cell_type": "code",
   "execution_count": 3,
   "metadata": {},
   "outputs": [],
   "source": [
    "# Define area of interest\n",
    "\n",
    "x = (178.281, 178.655)\n",
    "y = (-17.91, -18.1732)\n",
    "crs = \"EPSG:4326\"\n",
    "output_crs=\"EPSG:32760\"\n",
    "\n",
    "res = (-30,30)\n",
    "\n",
    "query=({'x':x,\n",
    "        'y':y,\n",
    "        'crs':crs,\n",
    "        'resolution':res})\n",
    "\n",
    "time = (\"2018-04-02\", \"2019-03-30\")\n",
    "\n",
    "out_filename = \"Fiji-Suva.tif\""
   ]
  },
  {
   "cell_type": "code",
   "execution_count": 7,
   "metadata": {},
   "outputs": [
    {
     "data": {
      "text/plain": [
       "id\n",
       "15       alos2_palsar_AMA_ingest\n",
       "6                ls5_level1_usgs\n",
       "19             ls5_usgs_sr_scene\n",
       "17    ls7_collection1_AMA_ingest\n",
       "5                ls7_level1_usgs\n",
       "18             ls7_usgs_sr_scene\n",
       "16    ls8_collection1_AMA_ingest\n",
       "7                 ls8_l1_pc_usgs\n",
       "4                ls8_level1_usgs\n",
       "23             ls8_usgs_fc_scene\n",
       "21             ls8_usgs_sr_scene\n",
       "22                  ls_usgs_wofs\n",
       "13               s1_gamma0_scene\n",
       "Name: name, dtype: object"
      ]
     },
     "execution_count": 7,
     "metadata": {},
     "output_type": "execute_result"
    }
   ],
   "source": [
    "dc.list_products().name"
   ]
  },
  {
   "cell_type": "markdown",
   "metadata": {},
   "source": [
    "## Create environmental layers"
   ]
  },
  {
   "cell_type": "markdown",
   "metadata": {},
   "source": [
    "### Presence/Absence of Vegetation"
   ]
  },
  {
   "cell_type": "markdown",
   "metadata": {},
   "source": [
    "INITIAL-LEVEL DISTINCTION\n",
    "\n",
    "   * *Primarily Vegetated Areas*:\n",
    "   This class applies to areas that have a vegetative cover of at least 4% for at least two months of the year, consisting of Woody (Trees, Shrubs) and/or Herbaceous (Forbs, Graminoids) lifeforms, or at least 25% cover of Lichens/Mosses when other life forms are absent.\n",
    "   * *Primarily Non-Vegetated Areas*:\n",
    "   Areas which are not primarily vegetated.\n",
    " "
   ]
  },
  {
   "cell_type": "markdown",
   "metadata": {},
   "source": [
    "**Creating your own layer**: To use a different veg/non-veg layer, replace the following two cells with code to create a binary layer with vegetated (1) and non-vegetated (0), using the method of choice, and save into `vegetat_veg_cat_ds`"
   ]
  },
  {
   "cell_type": "code",
   "execution_count": 11,
   "metadata": {},
   "outputs": [],
   "source": [
    "ls8 = dc.load(product=\"ls8_usgs_sr_scene\", output_crs=output_crs, \n",
    "              measurements=['red', 'nir', 'pixel_qa'], time=time, **query)\n"
   ]
  },
  {
   "cell_type": "code",
   "execution_count": null,
   "metadata": {},
   "outputs": [],
   "source": [
    "good_data = masking.make_mask(ls8.pixel_qa, cloud='no_cloud', nodata=False )\n",
    "ls8 = masking.mask_invalid_data(ls8)\n",
    "ndvi = ((ls8.nir - ls8.red) / (ls8.nir + ls8.red))\n",
    "clear_ndvi = ndvi.where(good_data)\n",
    "quan = clear_ndvi.quantile(q=.9, dim='time')\n"
   ]
  },
  {
   "cell_type": "code",
   "execution_count": null,
   "metadata": {},
   "outputs": [],
   "source": [
    "vegetat_veg_cat_ds = (quan > .4).to_dataset(name=\"vegetat_veg_cat\")"
   ]
  },
  {
   "cell_type": "code",
   "execution_count": null,
   "metadata": {},
   "outputs": [],
   "source": [
    "# # Plot output\n",
    "vegetat_veg_cat_ds[\"vegetat_veg_cat\"].plot(figsize=(6, 5))"
   ]
  },
  {
   "cell_type": "markdown",
   "metadata": {},
   "source": [
    "### Aquatic or regularly flooded / Terrestrial"
   ]
  },
  {
   "cell_type": "markdown",
   "metadata": {},
   "source": [
    "SECOND-LEVEL DISTINCTION\n",
    "This layer breaks the initial veg/non-veg into 4 classes based on the presence or absence of water\n",
    "\n",
    "   * *Primarily vegetated, Terrestrial*: The vegetation is influenced by the edaphic substratum\n",
    "   * *Primarily Non-Vegetated, Terrestrial*: The cover is influenced by the edaphic substratum\n",
    "   * *Primarily vegetated, Aquatic or regularly flooded*: The environment is significantly influenced by the presence of water over extensive periods of time. The water is the dominant factor determining natural soil development and the type of plant communities living on its surface\n",
    "   * *Primarily Non-Vegetated, Aquatic or regularly flooded*:\n",
    "   "
   ]
  },
  {
   "cell_type": "markdown",
   "metadata": {},
   "source": [
    "**Creating your own layer**: To use a different veg/non-veg layer, replace the following two cells with code to create a binary layer with aquatic (1) and terrestrial (0), using the method of choice, and save into `aquatic_wat_cat_ds`"
   ]
  },
  {
   "cell_type": "markdown",
   "metadata": {},
   "source": [
    "### S1 Water"
   ]
  },
  {
   "cell_type": "code",
   "execution_count": 4,
   "metadata": {},
   "outputs": [],
   "source": [
    "# Load data from datacube\n",
    "s1 = dc.load(product=\"s1_gamma0_scene\", output_crs=output_crs, time=time, **query)\n",
    "s1 = masking.mask_invalid_data(s1)\n",
    "\n",
    "vh = (10**(s1.vh/10))\n",
    "vv = (10**(s1.vv/10))"
   ]
  },
  {
   "cell_type": "code",
   "execution_count": 5,
   "metadata": {},
   "outputs": [],
   "source": [
    "water = ((vv <= 0.07) & (vh <= 0.01))"
   ]
  },
  {
   "cell_type": "code",
   "execution_count": 6,
   "metadata": {},
   "outputs": [
    {
     "data": {
      "text/plain": [
       "<matplotlib.image.AxesImage at 0x7f36d49b1668>"
      ]
     },
     "execution_count": 6,
     "metadata": {},
     "output_type": "execute_result"
    },
    {
     "data": {
      "image/png": "[encoded data removed]",
      "text/plain": [
       "<Figure size 720x576 with 2 Axes>"
      ]
     },
     "metadata": {
      "needs_background": "light"
     },
     "output_type": "display_data"
    }
   ],
   "source": [
    "aquatic_wat_cat_ds = ((water.sum(dim='time') / water.count(dim=\"time\")) >.2).to_dataset(name=\"aquatic_wat_cat\")\n",
    "aquatic_wat_cat_ds.aquatic_wat_cat.plot.imshow(figsize=(10, 8))"
   ]
  },
  {
   "cell_type": "markdown",
   "metadata": {},
   "source": [
    "### cultman_agr_cat"
   ]
  },
  {
   "cell_type": "markdown",
   "metadata": {},
   "source": [
    "TERTIARY-LEVEL DISTINCTION\n",
    "This layer breaks the initial terrestrial and aquatic, vegetated categories into either cultivated/managed, or (semi-)natural\n",
    "\n",
    "   * *Primarily vegetated, Terrestrial, Artificial/Managed*: Cultivated and Managed Terrestrial Areas\n",
    "   * *Primarily vegetated, Terrestrial, (Semi-)natural*: Natural and Semi-Natural Vegetation\n",
    "   * *Primarily vegetated, Aquatic or Regularly Flooded, Artificial/Managed*: Cultivated Aquatic or Regularly Flooded Areas\n",
    "   * *Primarily vegetated, Aquatic or Regularly Flooded, (Semi-)natural*: Natural and Semi-Natural Aquatic or Regularly Flooded Vegetation\n",
    "\n",
    "   "
   ]
  },
  {
   "cell_type": "markdown",
   "metadata": {},
   "source": [
    "Here we're using the Median Absolute Deviation (MAD) to distinguish between natural and cultivated areas. This looks to be an interesting option, but more investigation is required to see if we can get a reliable, robust layer using this. "
   ]
  },
  {
   "cell_type": "code",
   "execution_count": null,
   "metadata": {},
   "outputs": [],
   "source": [
    "dummy = xarray.DataArray(numpy.zeros(quan.shape), coords=[quan.y.data, quan.x.data], dims=['y', 'x'] )"
   ]
  },
  {
   "cell_type": "code",
   "execution_count": null,
   "metadata": {},
   "outputs": [],
   "source": [
    "cultman_agr_cat_ds = dummy.to_dataset(name=\"cultman_agr_cat\")"
   ]
  },
  {
   "cell_type": "markdown",
   "metadata": {},
   "source": [
    "### artific_urb_cat"
   ]
  },
  {
   "cell_type": "markdown",
   "metadata": {},
   "source": [
    "This layer breaks the initial terrestrial, non-vegetated category into either artificial surfaces or bare areas\n",
    "\n",
    "   * *Primarily non-vegetated, Terrestrial, Artificial/managed*: Areas that have an artificial cover as a result of human activities such as construction, extraction or waste disposal\n",
    "   * *Primarily non-vegetated, Terrestrial, (Semi-)natural*: Bare areas that do not have an artificial cover as a result of human activities. These areas include areas with less than 4% vegetative cover. Included are bare rock areas, sands and deserts   "
   ]
  },
  {
   "cell_type": "code",
   "execution_count": 8,
   "metadata": {
    "scrolled": true
   },
   "outputs": [],
   "source": [
    "urban = ((vv.median(dim='time') > .5) | (vh.median(dim='time') > .1))"
   ]
  },
  {
   "cell_type": "code",
   "execution_count": 9,
   "metadata": {},
   "outputs": [],
   "source": [
    "artific_urb_cat_ds = urban.to_dataset(name=\"artific_urb_cat\")"
   ]
  },
  {
   "cell_type": "code",
   "execution_count": 10,
   "metadata": {},
   "outputs": [
    {
     "data": {
      "text/plain": [
       "<matplotlib.collections.QuadMesh at 0x7f3670d9b5c0>"
      ]
     },
     "execution_count": 10,
     "metadata": {},
     "output_type": "execute_result"
    },
    {
     "data": {
      "image/png": "[encoded data removed]",
      "text/plain": [
       "<Figure size 432x360 with 2 Axes>"
      ]
     },
     "metadata": {
      "needs_background": "light"
     },
     "output_type": "display_data"
    }
   ],
   "source": [
    "# # Plot output\n",
    "artific_urb_cat_ds[\"artific_urb_cat\"].plot(figsize=(6, 5))"
   ]
  },
  {
   "cell_type": "markdown",
   "metadata": {},
   "source": [
    "### artwatr_wat_cat"
   ]
  },
  {
   "cell_type": "markdown",
   "metadata": {},
   "source": [
    "This layer breaks the initial Aquatic, non-vegetated category into either artificial water bodies or natural ones\n",
    "\n",
    "   * *Primarily non-vegetated, Aquatic or Regularly Flooded, Artificial/managed*: areas that are covered by water due to the construction of artefacts such as reservoirs, canals, artificial lakes, etc.\n",
    "   * *Primarily non-vegetated, Aquatic or Regularly Flooded, (Semi-)natural*: areas that are naturally covered by water, such as lakes, rivers, snow or ice"
   ]
  },
  {
   "cell_type": "markdown",
   "metadata": {},
   "source": [
    "As differentiating between natural and artificial waterbodies using only satellite imagery is extremely difficult, here we use a static layer. Australian Hydrological Geospatial Fabric (Geofabric) is a dataset of hydrological features derived from manually interpreted topographic map grids. It classifies the land in terms of:  \n",
    "0: Unclassified, 1: CanalArea, 2: Flat, 3: ForeshoreFlat, 4: PondageArea, 5: RapidArea, 6: WatercourseArea, 7: Lake, 8: Reservoir, 9: Swamp\n",
    "Here, CanalArea & Reservoir are used to define artificial water."
   ]
  },
  {
   "cell_type": "markdown",
   "metadata": {},
   "source": [
    "Collect environmental variables into array for passing to classification system"
   ]
  },
  {
   "cell_type": "code",
   "execution_count": 24,
   "metadata": {},
   "outputs": [],
   "source": [
    "artwatr_wat_cat_ds = quan.to_dataset(name=\"artwatr_wat_cat\")"
   ]
  },
  {
   "cell_type": "code",
   "execution_count": 25,
   "metadata": {},
   "outputs": [],
   "source": [
    "variables_xarray_list = []\n",
    "variables_xarray_list.append(artwatr_wat_cat_ds)\n",
    "variables_xarray_list.append(aquatic_wat_cat_ds)\n",
    "variables_xarray_list.append(vegetat_veg_cat_ds)\n",
    "variables_xarray_list.append(cultman_agr_cat_ds)\n",
    "variables_xarray_list.append(artific_urb_cat_ds)"
   ]
  },
  {
   "cell_type": "markdown",
   "metadata": {},
   "source": [
    "## Classification"
   ]
  },
  {
   "cell_type": "markdown",
   "metadata": {},
   "source": [
    "The LCCS classificaition is hierachial. The 8 classes are shown below.\n",
    "\n",
    "| Class name | Code | Numeric code |\n",
    "|----------------------------------|-----|-----|\n",
    "| Cultivated Terrestrial Vegetated | A11 | 111 |\n",
    "| Natural Terrestrial Vegetated | A12 | 112 |\n",
    "| Cultivated Aquatic Vegetated | A23 | 123 |\n",
    "| Natural Aquatic Vegetated | A24 | 124 |\n",
    "| Artificial Surface | B15 | 215 |\n",
    "| Natural Surface | B16 | 216 |\n",
    "| Artificial Water | B27 | 227 |\n",
    "| Natural Water | B28 | 228 |\n"
   ]
  },
  {
   "cell_type": "code",
   "execution_count": 26,
   "metadata": {},
   "outputs": [
    {
     "data": {
      "text/plain": [
       "<xarray.Dataset>\n",
       "Dimensions:          (x: 1329, y: 983)\n",
       "Coordinates:\n",
       "  * y                (y) float64 8.019e+06 8.019e+06 ... 7.99e+06 7.99e+06\n",
       "  * x                (x) float64 6.355e+05 6.355e+05 ... 6.753e+05 6.753e+05\n",
       "    quantile         float64 0.9\n",
       "Data variables:\n",
       "    artwatr_wat_cat  (y, x) float64 0.9706 0.9667 0.9621 ... 0.4 0.3976 0.3256\n",
       "    aquatic_wat_cat  (y, x) float64 0.0 0.0 0.0 0.0 0.0 ... 1.0 1.0 1.0 1.0 1.0\n",
       "    vegetat_veg_cat  (y, x) bool True True True True ... True False False False\n",
       "    cultman_agr_cat  (y, x) float64 0.0 0.0 0.0 0.0 0.0 ... 0.0 0.0 0.0 0.0 0.0\n",
       "    artific_urb_cat  (y, x) float64 0.0 0.0 0.0 0.0 0.0 ... 0.0 0.0 0.0 0.0 0.0"
      ]
     },
     "execution_count": 26,
     "metadata": {},
     "output_type": "execute_result"
    }
   ],
   "source": [
    "# Merge to a single dataframe\n",
    "classification_data = xarray.merge(variables_xarray_list)\n",
    "classification_data"
   ]
  },
  {
   "cell_type": "code",
   "execution_count": 27,
   "metadata": {},
   "outputs": [],
   "source": [
    "# Apply Level 3 classification using separate function. Works through in three stages\n",
    "level1, level2, level3 = lccs_l3.classify_lccs_level3(classification_data)"
   ]
  },
  {
   "cell_type": "code",
   "execution_count": 28,
   "metadata": {},
   "outputs": [
    {
     "data": {
      "text/plain": [
       "<matplotlib.image.AxesImage at 0x7f2f5e534828>"
      ]
     },
     "execution_count": 28,
     "metadata": {},
     "output_type": "execute_result"
    },
    {
     "data": {
      "image/png": "[encoded data removed]",
      "text/plain": [
       "<Figure size 720x720 with 1 Axes>"
      ]
     },
     "metadata": {
      "needs_background": "light"
     },
     "output_type": "display_data"
    }
   ],
   "source": [
    "#To check the results for level 3 use colour_lccs_level3 to get the colour scheme.\n",
    "pyplot.figure(figsize=(10, 10))\n",
    "red, green, blue, alpha = lccs_l3.colour_lccs_level3(level3)\n",
    "pyplot.imshow(numpy.dstack([red, green, blue, alpha]))"
   ]
  },
  {
   "cell_type": "markdown",
   "metadata": {},
   "source": [
    "### Save results to geotiff"
   ]
  },
  {
   "cell_type": "code",
   "execution_count": 29,
   "metadata": {},
   "outputs": [],
   "source": [
    "import gdal\n",
    "def array_to_geotiff(fname, data, geo_transform, projection,\n",
    "                     nodata_val=0, dtype=gdal.GDT_Int16):\n",
    "\n",
    "    # Set up driver\n",
    "    driver = gdal.GetDriverByName('GTiff')\n",
    "\n",
    "    # Create raster of given size and projection\n",
    "    rows, cols = data.shape\n",
    "    dataset = driver.Create(fname, cols, rows, 1, dtype)\n",
    "    dataset.SetGeoTransform(geo_transform)\n",
    "    dataset.SetProjection(projection)\n",
    "\n",
    "    # Write data to array and set nodata values\n",
    "    band = dataset.GetRasterBand(1)\n",
    "    band.WriteArray(data)\n",
    "    band.SetNoDataValue(nodata_val)\n",
    "\n",
    "    # Close file\n",
    "    dataset = None"
   ]
  },
  {
   "cell_type": "code",
   "execution_count": 30,
   "metadata": {},
   "outputs": [],
   "source": [
    "#create 'transform' tuple that will define the dimensions of the rasterized shapefile and exporty\n",
    "import osr\n",
    "srs = osr.SpatialReference()\n",
    "srs.ImportFromEPSG(32760)\n",
    "prj_wkt = srs.ExportToWkt()\n",
    "\n",
    "easting = float(ls8.x[0])\n",
    "W_E_pixelRes = float(ls8.y[0] - ls8.y[1])\n",
    "rotation = 0.0 #(if image is 'north up')\n",
    "northing = float(ls8.y[0])\n",
    "rotation1 = 0.0 #(if image is 'north up')\n",
    "N_S_pixelRes = float(ls8.x[0] - ls8.x[1])\n",
    "\n",
    "transform = (easting, W_E_pixelRes, rotation, northing, rotation1, N_S_pixelRes)\n",
    "\n",
    "array_to_geotiff(out_filename,\n",
    "                  level3,\n",
    "                  geo_transform = transform, \n",
    "                  projection = prj_wkt, \n",
    "                  nodata_val=0)"
   ]
  },
  {
   "cell_type": "code",
   "execution_count": null,
   "metadata": {},
   "outputs": [],
   "source": []
  }
 ],
 "metadata": {
  "kernelspec": {
   "display_name": "Python 3",
   "language": "python",
   "name": "python3"
  },
  "language_info": {
   "codemirror_mode": {
    "name": "ipython",
    "version": 3
   },
   "file_extension": ".py",
   "mimetype": "text/x-python",
   "name": "python",
   "nbconvert_exporter": "python",
   "pygments_lexer": "ipython3",
   "version": "3.6.7"
  },
  "toc": {
   "base_numbering": 1,
   "nav_menu": {},
   "number_sections": true,
   "sideBar": true,
   "skip_h1_title": true,
   "title_cell": "Table of Contents",
   "title_sidebar": "Contents",
   "toc_cell": false,
   "toc_position": {},
   "toc_section_display": true,
   "toc_window_display": false
  }
 },
 "nbformat": 4,
 "nbformat_minor": 2
}
